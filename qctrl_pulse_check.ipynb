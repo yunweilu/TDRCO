{
 "cells": [
  {
   "cell_type": "code",
   "execution_count": 1,
   "id": "24f8c118",
   "metadata": {},
   "outputs": [],
   "source": [
    "# Import packages.\n",
    "import numpy as np\n",
    "import matplotlib.pyplot as plt\n",
    "# transmon anharmonicity\n",
    "import qutip as qt\n",
    "from qutip import *\n",
    "import scipy.special as sp"
   ]
  },
  {
   "cell_type": "code",
   "execution_count": 2,
   "id": "0a11cee1",
   "metadata": {},
   "outputs": [],
   "source": [
    "def Rx(matrix,angle):\n",
    "    matrix[0,0]=np.cos(angle/2)\n",
    "    matrix[0,1]=-1j*np.sin(angle/2)\n",
    "    matrix[1,0]=-1j*np.sin(angle/2)\n",
    "    matrix[1,1]=np.cos(angle/2)\n",
    "    return matrix\n",
    "def infidelities(duration):\n",
    "    string = 'qcpi_'+str(duration)+'.npy'\n",
    "    pulse = np.load(string)\n",
    "    if duration == 10:\n",
    "        duration = duration-1\n",
    "    k_q = -200e-3 * 2*np.pi  \n",
    "    #transmon truncation level\n",
    "    N_q = 5\n",
    "    #duration\n",
    "    #number of time intervals for AWG\n",
    "    total_time=duration\n",
    "    total_time_steps=2*total_time\n",
    "    #target\n",
    "    angle= np.pi\n",
    "    #range of δ you care\n",
    "    fluc=np.linspace(-10,10,201)*2*np.pi*1e-3\n",
    "    # Qutip will do interpolation for drive, which distort piece-wise-constant control. \n",
    "    # Here I manually do interpolation to make sure piece-wise-constant pulse.\n",
    "    resolution = 100\n",
    "    times = np.linspace(0, total_time, total_time_steps*resolution+1)\n",
    "    times=np.delete(times, [len(times) - 1])\n",
    "    osc_control=np.array([np.cos(2*np.pi*5*times),np.sin(2*np.pi*5*times)])\n",
    "    best_controls=np.zeros_like(osc_control)\n",
    "    for m in range(len(best_controls)):\n",
    "        for i in range(len(pulse[0])): \n",
    "            for j in range(resolution):\n",
    "                best_controls[m][i*resolution+j]=pulse[m][i]*(1)\n",
    "                \n",
    "    \n",
    "    \n",
    "    target_states=np.zeros([N_q,N_q],dtype=complex)\n",
    "    target_states=Rx(target_states,angle)\n",
    "    a_q = destroy(N_q)\n",
    "    n_q = a_q.dag() * a_q\n",
    "    x_q = a_q + a_q.dag()\n",
    "    cross = 0e-3 * 2*np.pi\n",
    "    # without -1/2, strange result when change time origin\n",
    "    H0 =  1/2*k_q * a_q.dag()**2 * a_q**2\n",
    "    Hcx=a_q+a_q.dag()\n",
    "    Hcy=-a_q*1j+1j*a_q.dag()\n",
    "    H0=H0.data.toarray()\n",
    "    Hcx=Hcx.data.toarray()\n",
    "    Hcy=Hcy.data.toarray()\n",
    "    H_controls=[Hcx,Hcy]\n",
    "    U_ideal=qt.Qobj(target_states)\n",
    "    #infidelity withought fluctuation\n",
    "    options = qt.Options(rtol=1e-10, atol=1e-10)\n",
    "    qt_H0=qt.Qobj(H0)\n",
    "\n",
    "    qt_Hcx=qt.Qobj(H_controls[0])\n",
    "    qt_Hcy=qt.Qobj(H_controls[1])\n",
    "    qt_tlist=times\n",
    "\n",
    "    fluc_oper=n_q\n",
    "    infidelities=np.zeros(len(fluc))\n",
    "    infidelities_robust=np.zeros(len(fluc))\n",
    "    options = qt.Options(rtol=1e-10, atol=1e-10)\n",
    "    U_ideal=qt.Qobj(target_states)\n",
    "    x=np.pi/angle\n",
    "    for i in range(len(fluc)):\n",
    "        qt_H0=qt.Qobj(H0+fluc[i]*fluc_oper)\n",
    "        qt_tlist=times\n",
    "        qt_cx = best_controls[0]\n",
    "        qt_cy = best_controls[1]\n",
    "        qt_H=[qt_H0,[qt_Hcx,qt_cx],[qt_Hcy,qt_cy]]\n",
    "        output = qt.propagator(qt_H, qt_tlist, options=options)\n",
    "        infidelities[i]=1-np.abs(np.trace((U_ideal*output[-1].dag())))**2/4\n",
    "    return np.mean(infidelities)"
   ]
  },
  {
   "cell_type": "code",
   "execution_count": 39,
   "id": "a032a2a4",
   "metadata": {},
   "outputs": [],
   "source": [
    "from joblib import Parallel, delayed\n",
    "durations = [10, 20, 30, 40, 50, 60, 70, 80]\n",
    "\n",
    "# Use joblib to parallelize the infidelities function\n",
    "results = Parallel(n_jobs=-1)(delayed(infidelities)(duration) for duration in durations)\n"
   ]
  },
  {
   "cell_type": "code",
   "execution_count": 40,
   "id": "40a94c1b",
   "metadata": {},
   "outputs": [
    {
     "data": {
      "text/plain": [
       "[0.0032463102730425856,\n",
       " 0.0002564991139313211,\n",
       " 0.0016854158182451184,\n",
       " 0.007618872033338548,\n",
       " 0.008062655239110917,\n",
       " 0.004172288962376962,\n",
       " 0.021455436625821483,\n",
       " 0.0037640035435199757]"
      ]
     },
     "execution_count": 40,
     "metadata": {},
     "output_type": "execute_result"
    }
   ],
   "source": [
    "results"
   ]
  },
  {
   "cell_type": "code",
   "execution_count": 3,
   "id": "ad6bed04",
   "metadata": {},
   "outputs": [],
   "source": [
    "pulse = np.load('qcpi_20.npy')\n",
    "k_q = -200e-3 * 2*np.pi  \n",
    "#transmon truncation level\n",
    "N_q = 5\n",
    "#duration\n",
    "total_time = 20\n",
    "#number of time intervals for AWG\n",
    "total_time_steps=2*total_time\n",
    "#target\n",
    "angle= np.pi\n",
    "#range of δ you care\n",
    "fluc=np.linspace(-20,20,401)*2*np.pi*1e-3\n",
    "# Qutip will do interpolation for drive, which distort piece-wise-constant control. \n",
    "# Here I manually do interpolation to make sure piece-wise-constant pulse.\n",
    "resolution = 100\n",
    "times = np.linspace(0, total_time, total_time_steps*resolution+1)\n",
    "times=np.delete(times, [len(times) - 1])\n",
    "osc_control=np.array([np.cos(2*np.pi*5*times),np.sin(2*np.pi*5*times)])\n",
    "best_controls=np.zeros_like(osc_control)\n",
    "for m in range(len(best_controls)):\n",
    "    for i in range(len(pulse[0])): \n",
    "        for j in range(resolution):\n",
    "            best_controls[m][i*resolution+j]=pulse[m][i]*(1)"
   ]
  },
  {
   "cell_type": "code",
   "execution_count": 9,
   "id": "06936470",
   "metadata": {},
   "outputs": [
    {
     "data": {
      "text/plain": [
       "(-0.5, 0.5)"
      ]
     },
     "execution_count": 9,
     "metadata": {},
     "output_type": "execute_result"
    },
    {
     "data": {
      "image/png": "[encoded data removed]",
      "text/plain": [
       "<Figure size 432x288 with 1 Axes>"
      ]
     },
     "metadata": {
      "needs_background": "light"
     },
     "output_type": "display_data"
    }
   ],
   "source": [
    "times = np.linspace(0, total_time, total_time_steps+1)\n",
    "times=np.delete(times, [len(times) - 1])\n",
    "from numpy.fft import fft,fftfreq,ifft\n",
    "fourier = np.abs(fft(pulse[0]-1j*pulse[1]))\n",
    "freq = fftfreq(len(times), times[1]-times[0])\n",
    "max_index = np.argpartition(abs(fourier), -3)[-3:]\n",
    "fig,ax=plt.subplots()\n",
    "ax.set_xlabel('Frequency (GHz)')\n",
    "ax.set_ylabel('|f(w)|$^2$')\n",
    "ax.stem(freq, fourier, markerfmt=' ', label='')\n",
    "for index in max_index:\n",
    "    ax.annotate('{}'.format(freq[index]), xy=(freq[index], fourier[index]))\n",
    "ax.set_xlim(-0.5,0.5)"
   ]
  },
  {
   "cell_type": "code",
   "execution_count": 6,
   "id": "d75e841f",
   "metadata": {},
   "outputs": [
    {
     "data": {
      "text/plain": [
       "[<matplotlib.lines.Line2D at 0x7fc0cde7dfd0>]"
      ]
     },
     "execution_count": 6,
     "metadata": {},
     "output_type": "execute_result"
    },
    {
     "data": {
      "image/png": "[encoded data removed]",
      "text/plain": [
       "<Figure size 432x288 with 1 Axes>"
      ]
     },
     "metadata": {
      "needs_background": "light"
     },
     "output_type": "display_data"
    }
   ],
   "source": [
    "plt.plot(best_controls[0])\n",
    "plt.plot(best_controls[1])"
   ]
  },
  {
   "cell_type": "code",
   "execution_count": null,
   "id": "2d74b19e",
   "metadata": {},
   "outputs": [],
   "source": []
  },
  {
   "cell_type": "code",
   "execution_count": 67,
   "id": "f6aaa567",
   "metadata": {},
   "outputs": [
    {
     "data": {
      "image/png": "[encoded data removed]",
      "text/plain": [
       "<Figure size 432x288 with 1 Axes>"
      ]
     },
     "metadata": {
      "needs_background": "light"
     },
     "output_type": "display_data"
    }
   ],
   "source": [
    "def Rx(matrix,angle):\n",
    "    matrix[0,0]=np.cos(angle/2)\n",
    "    matrix[0,1]=-1j*np.sin(angle/2)\n",
    "    matrix[1,0]=-1j*np.sin(angle/2)\n",
    "    matrix[1,1]=np.cos(angle/2)\n",
    "    return matrix\n",
    "import qutip as qt\n",
    "from qutip import *\n",
    "import scipy.special as sp\n",
    "target_states=np.zeros([N_q,N_q],dtype=complex)\n",
    "target_states=Rx(target_states,angle)\n",
    "a_q = destroy(N_q)\n",
    "n_q = a_q.dag() * a_q\n",
    "x_q = a_q + a_q.dag()\n",
    "cross = 0e-3 * 2*np.pi\n",
    "# without -1/2, strange result when change time origin\n",
    "H0 =  1/2*k_q * a_q.dag()**2 * a_q**2\n",
    "Hcx=a_q+a_q.dag()\n",
    "Hcy=-a_q*1j+1j*a_q.dag()\n",
    "H0=H0.data.toarray()\n",
    "Hcx=Hcx.data.toarray()\n",
    "Hcy=Hcy.data.toarray()\n",
    "H_controls=[Hcx,Hcy]\n",
    "U_ideal=qt.Qobj(target_states)\n",
    "#infidelity withought fluctuation\n",
    "import qutip as qt\n",
    "options = qt.Options(rtol=1e-10, atol=1e-10)\n",
    "qt_H0=qt.Qobj(H0)\n",
    "\n",
    "qt_Hcx=qt.Qobj(H_controls[0])\n",
    "qt_Hcy=qt.Qobj(H_controls[1])\n",
    "qt_tlist=times\n",
    "\n",
    "fluc_oper=n_q\n",
    "infidelities=np.zeros(len(fluc))\n",
    "infidelities_robust=np.zeros(len(fluc))\n",
    "options = qt.Options(rtol=1e-10, atol=1e-10)\n",
    "U_ideal=qt.Qobj(target_states)\n",
    "x=np.pi/angle\n",
    "for i in range(len(fluc)):\n",
    "    qt_H0=qt.Qobj(H0+fluc[i]*fluc_oper)\n",
    "    qt_tlist=times\n",
    "    qt_cx = best_controls[0]\n",
    "    qt_cy = best_controls[1]\n",
    "    qt_H=[qt_H0,[qt_Hcx,qt_cx],[qt_Hcy,qt_cy]]\n",
    "    output = qt.propagator(qt_H, qt_tlist, options=options)\n",
    "    infidelities[i]=1-np.abs(np.trace((U_ideal*output[-1].dag())))**2/4\n",
    "fig,ax=plt.subplots()\n",
    "ax.plot(fluc/(2*np.pi)*1e3,infidelities)\n",
    "ax.set_xlabel('Detuning frequency (MHz)')\n",
    "ax.set_ylabel('Infidelity')\n",
    "ax.scatter(fluc/(2*np.pi)*1e3,infidelities)\n",
    "ax.set_yscale('log')"
   ]
  },
  {
   "cell_type": "code",
   "execution_count": 93,
   "id": "96e097b3",
   "metadata": {},
   "outputs": [],
   "source": [
    "import qutip as qt\n",
    "import matplotlib.pyplot as plt\n",
    "import numpy as np\n",
    "from qutip import *\n",
    "import scipy.special as sp\n",
    "import scipy\n",
    "from scipy.interpolate import interp1d\n",
    "\n",
    "N_q = 5\n",
    "\n",
    "a_q = destroy(N_q)\n",
    "n_q = a_q.dag() * a_q\n",
    "x_q = a_q + a_q.dag()\n",
    "def func(i):\n",
    "\n",
    "    cross = fluc[i]\n",
    "    \n",
    "    anhar = 200 * 1e-3 * 2*np.pi   # need to modify in python file \n",
    "\n",
    "    kerr_q = anhar / 2\n",
    "    \n",
    "    k_q = -200e-3 * 2*np.pi  \n",
    "\n",
    "    H0 = ( cross * n_q \n",
    "          + 1/2*k_q * a_q.dag()**2 * a_q**2 \n",
    "         )\n",
    "\n",
    "    Hcx=a_q+a_q.dag()\n",
    "    Hcy=-a_q*1j+1j*a_q.dag()\n",
    "\n",
    "    target_states=np.zeros((N_q, N_q), dtype=np.complex128)\n",
    "    target_states[0,1]=1\n",
    "    target_states[1,0]=1\n",
    "    target_sup = np.kron(target_states,target_states)\n",
    "    U_ideal = Qobj(target_states)\n",
    "\n",
    "    options = qt.Options(rtol=1e-10, atol=1e-10)\n",
    "\n",
    "    \n",
    "    # qoc part \n",
    "    qt_cx = best_controls[0]\n",
    "    qt_cy = best_controls[1]\n",
    "    qt_H=[H0,[Hcx,qt_cx],[Hcy,qt_cy]]\n",
    "    T_1 = 50000\n",
    "    T_phi = 50000\n",
    "    output = qt.propagator(qt_H, times, c_op_list=[np.sqrt(1/T_1)*a_q,2*np.sqrt(1/T_phi)*n_q], args={}, options=options)\n",
    "    robust = 1-1/4*np.abs(np.trace(np.transpose(output[-1].data.toarray()@target_sup)))\n",
    "    \n",
    "    return robust"
   ]
  },
  {
   "cell_type": "code",
   "execution_count": 88,
   "id": "0b56a1f4",
   "metadata": {},
   "outputs": [
    {
     "data": {
      "text/plain": [
       "0.0008069233343729332"
      ]
     },
     "execution_count": 88,
     "metadata": {},
     "output_type": "execute_result"
    }
   ],
   "source": [
    "func(0)"
   ]
  },
  {
   "cell_type": "code",
   "execution_count": 94,
   "id": "1ff26804",
   "metadata": {},
   "outputs": [
    {
     "name": "stdout",
     "output_type": "stream",
     "text": [
      "10.2%. Run time: 163.39s. Est. time left: 00:00:23:54\n",
      "20.2%. Run time: 304.00s. Est. time left: 00:00:20:00\n",
      "30.2%. Run time: 454.25s. Est. time left: 00:00:17:31\n",
      "40.1%. Run time: 603.97s. Est. time left: 00:00:15:00\n",
      "50.1%. Run time: 746.40s. Est. time left: 00:00:12:22\n",
      "60.1%. Run time: 886.11s. Est. time left: 00:00:09:48\n",
      "70.1%. Run time: 1022.87s. Est. time left: 00:00:07:16\n",
      "80.0%. Run time: 1158.21s. Est. time left: 00:00:04:48\n",
      "90.0%. Run time: 1294.97s. Est. time left: 00:00:02:23\n",
      "100.0%. Run time: 1421.85s. Est. time left: 00:00:00:00\n",
      "Total run time: 1421.92s\n"
     ]
    }
   ],
   "source": [
    "RESULT = parallel_map(func, range(len(fluc)), progress_bar=True)"
   ]
  },
  {
   "cell_type": "code",
   "execution_count": 95,
   "id": "5d352927",
   "metadata": {},
   "outputs": [],
   "source": [
    "from qutip import qsave"
   ]
  },
  {
   "cell_type": "code",
   "execution_count": 96,
   "id": "9b3e3b35",
   "metadata": {},
   "outputs": [],
   "source": [
    "rrr = [results,infidelities,RESULT]"
   ]
  },
  {
   "cell_type": "code",
   "execution_count": 97,
   "id": "7be4f4af",
   "metadata": {},
   "outputs": [],
   "source": [
    "qsave(rrr,'qctrl_result')"
   ]
  },
  {
   "cell_type": "code",
   "execution_count": 1,
   "id": "19dbe150",
   "metadata": {},
   "outputs": [
    {
     "ename": "NameError",
     "evalue": "name 'np' is not defined",
     "output_type": "error",
     "traceback": [
      "\u001b[0;31m---------------------------------------------------------------------------\u001b[0m",
      "\u001b[0;31mNameError\u001b[0m                                 Traceback (most recent call last)",
      "Input \u001b[0;32mIn [1]\u001b[0m, in \u001b[0;36m<module>\u001b[0;34m\u001b[0m\n\u001b[0;32m----> 1\u001b[0m \u001b[43mnp\u001b[49m\u001b[38;5;241m.\u001b[39mmean(infidelities)\n",
      "\u001b[0;31mNameError\u001b[0m: name 'np' is not defined"
     ]
    }
   ],
   "source": [
    "np.mean(infidelities)"
   ]
  },
  {
   "cell_type": "code",
   "execution_count": null,
   "id": "473416fd",
   "metadata": {},
   "outputs": [],
   "source": [
    "plt.plot(RESULT)"
   ]
  },
  {
   "cell_type": "code",
   "execution_count": null,
   "id": "b17e1362",
   "metadata": {},
   "outputs": [],
   "source": []
  }
 ],
 "metadata": {
  "kernelspec": {
   "display_name": "Python 3 (ipykernel)",
   "language": "python",
   "name": "python3"
  },
  "language_info": {
   "codemirror_mode": {
    "name": "ipython",
    "version": 3
   },
   "file_extension": ".py",
   "mimetype": "text/x-python",
   "name": "python",
   "nbconvert_exporter": "python",
   "pygments_lexer": "ipython3",
   "version": "3.8.3"
  }
 },
 "nbformat": 4,
 "nbformat_minor": 5
}
