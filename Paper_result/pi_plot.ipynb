{
 "cells": [
  {
   "cell_type": "code",
   "execution_count": 8,
   "id": "5648b3d9",
   "metadata": {},
   "outputs": [],
   "source": [
    "import numpy as np\n",
    "import matplotlib.pyplot as plt\n",
    "duration = [20,30,40,50,60,70,80]"
   ]
  },
  {
   "cell_type": "code",
   "execution_count": 9,
   "id": "791f47ae",
   "metadata": {},
   "outputs": [],
   "source": [
    "pulse_set = []\n",
    "tlist = []\n",
    "#We do 1000 optimizations for each duration. This cell aims to find the best pulse for each duration\n",
    "#by comparing their cost values.\n",
    "for i in range(len(duration)):\n",
    "    name1 = 'pi_result_'+str(duration[i])+'_paras.npy'\n",
    "    name2 = 'pi_result_'+str(duration[i])+'_results.npy'\n",
    "    paras = np.load(name1,allow_pickle=True)[0]\n",
    "    results = np.load(name2,allow_pickle=True)[0]\n",
    "    \n",
    "    best_index = None\n",
    "    error = 1\n",
    "    for k in range(len(results)):\n",
    "        if results[k].best_error < error:\n",
    "            error = results[k].best_error\n",
    "            best_index = k\n",
    "    resolution=10\n",
    "    pulse  = [results[best_index].best_controls[0], results[best_index].best_controls[1]]\n",
    "    envolope_0=np.array([])\n",
    "    envolope_1=np.array([])\n",
    "    for value in pulse[1]:\n",
    "        for j in range(resolution):\n",
    "            envolope_1 = np.append(envolope_1,value)\n",
    "    for value in pulse[0]:\n",
    "        for j in range(resolution):\n",
    "            envolope_0 = np.append(envolope_0,value)\n",
    "    pulse_set.append( [envolope_0, envolope_1])\n",
    "    tlist_fine = np.linspace(0,duration[i],len(pulse_set[i][0]))\n",
    "    tlist.append(tlist_fine)"
   ]
  },
  {
   "cell_type": "code",
   "execution_count": 10,
   "id": "2a1d2f77",
   "metadata": {},
   "outputs": [],
   "source": [
    "import qutip as qt\n",
    "def close_simulation(i):\n",
    "    N_q = 5\n",
    "    a_q = destroy(N_q)\n",
    "    n_q = a_q.dag() * a_q\n",
    "    x_q = a_q + a_q.dag()\n",
    "    pulse = pulse_set[i]\n",
    "    t_g = duration[i]\n",
    "    cross_list = np.array([-10,-7,-4,-1,1,4,7,10])*1e-3*2*np.pi\n",
    "    infidelity = 0\n",
    "    for j in range(len(cross_list)):\n",
    "        cross = cross_list[j]\n",
    "        anhar = 200 * 1e-3 * 2*np.pi   # need to modify in python file \n",
    "        kerr_q = anhar / 2\n",
    "        k_q = -200e-3 * 2*np.pi  \n",
    "        H0 = ( cross * n_q \n",
    "          + 1/2*k_q * a_q.dag()**2 * a_q**2 \n",
    "         )\n",
    "        Hcx=a_q+a_q.dag()\n",
    "        Hcy=-a_q*1j+1j*a_q.dag()\n",
    "        target_states=np.zeros((N_q, N_q), dtype=np.complex128)\n",
    "        target_states[0,1]=1\n",
    "        target_states[1,0]=1\n",
    "    # target_states[0,0] = 1/np.sqrt(2)\n",
    "    # target_states[0,1] = -1j*1/np.sqrt(2)\n",
    "    # target_states[1,0] = -1j*1/np.sqrt(2)\n",
    "    # target_states[1,1] = 1/np.sqrt(2)\n",
    "\n",
    "        U_ideal = Qobj(target_states)\n",
    "\n",
    "        options = qt.Options(rtol=1e-10, atol=1e-10)\n",
    "\n",
    "    \n",
    "        qt_cx = pulse_set[i][0]\n",
    "        qt_cy = pulse_set[i][1]\n",
    "        qt_H=[H0,[Hcx,qt_cx],[Hcy,qt_cy]]\n",
    "\n",
    "        output = qt.propagator(qt_H, tlist[i], c_op_list=[], args={}, options=options)\n",
    "\n",
    "        infidelity += 1-np.abs(np.trace(U_ideal*output[-1].dag()))**2 / (2)**2\n",
    "    infidelity = infidelity/8\n",
    "    return infidelity\n",
    "\n",
    "import qutip as qt\n",
    "def open_simulation(i):\n",
    "    N_q = 5\n",
    "    a_q = destroy(N_q)\n",
    "    n_q = a_q.dag() * a_q\n",
    "    x_q = a_q + a_q.dag()\n",
    "    pulse = pulse_set[i]\n",
    "    t_g = duration[i]\n",
    "    cross_list = np.array([-10,-7,-4,-1,1,4,7,10])*1e-3*2*np.pi\n",
    "    infidelity = 0\n",
    "    for j in range(len(cross_list)):\n",
    "        cross = cross_list[j]\n",
    "        anhar = 200 * 1e-3 * 2*np.pi   # need to modify in python file \n",
    "        kerr_q = anhar / 2\n",
    "        k_q = -200e-3 * 2*np.pi  \n",
    "        H0 = ( cross * n_q \n",
    "          + 1/2*k_q * a_q.dag()**2 * a_q**2 \n",
    "         )\n",
    "        Hcx=a_q+a_q.dag()\n",
    "        Hcy=-a_q*1j+1j*a_q.dag()\n",
    "        target_states=np.zeros((N_q, N_q), dtype=np.complex128)\n",
    "        target_states[0,1]=1\n",
    "        target_states[1,0]=1\n",
    "        target_sup = np.kron(target_states,target_states)\n",
    "    # target_states[0,0] = 1/np.sqrt(2)\n",
    "    # target_states[0,1] = -1j*1/np.sqrt(2)\n",
    "    # target_states[1,0] = -1j*1/np.sqrt(2)\n",
    "    # target_states[1,1] = 1/np.sqrt(2)\n",
    "\n",
    "        U_ideal = Qobj(target_states)\n",
    "\n",
    "        options = qt.Options(rtol=1e-10, atol=1e-10)\n",
    "\n",
    "    \n",
    "    # qoc part \n",
    "        qt_cx = pulse_set[i][0]\n",
    "        qt_cy = pulse_set[i][1]\n",
    "        qt_H=[H0,[Hcx,qt_cx],[Hcy,qt_cy]]\n",
    "        T_1 = 50000\n",
    "        T_phi = 50000\n",
    "        output = qt.propagator(qt_H, tlist[i], c_op_list=[np.sqrt(1/T_1)*a_q,np.sqrt(2/T_phi)*n_q], args={}, options=options)\n",
    "    \n",
    "        infidelity +=1-1/4*np.abs(np.trace(np.transpose(output[-1].data.toarray()@target_sup)))\n",
    "    infidelity = infidelity/8\n",
    "    return infidelity"
   ]
  },
  {
   "cell_type": "code",
   "execution_count": 5,
   "id": "98d7c4cc",
   "metadata": {},
   "outputs": [
    {
     "name": "stdout",
     "output_type": "stream",
     "text": [
      "14.3%. Run time:   0.69s. Est. time left: 00:00:00:04\n",
      "28.6%. Run time:   0.96s. Est. time left: 00:00:00:02\n",
      "42.9%. Run time:   1.10s. Est. time left: 00:00:00:01\n",
      "57.1%. Run time:   1.30s. Est. time left: 00:00:00:00\n",
      "71.4%. Run time:   1.48s. Est. time left: 00:00:00:00\n",
      "85.7%. Run time:   1.72s. Est. time left: 00:00:00:00\n",
      "100.0%. Run time:   1.85s. Est. time left: 00:00:00:00\n",
      "Total run time:   1.88s\n"
     ]
    }
   ],
   "source": [
    "from qutip import *\n",
    "close_result = parallel_map(close_simulation, range(len(duration)), progress_bar=True)\n"
   ]
  },
  {
   "cell_type": "code",
   "execution_count": 6,
   "id": "010c7060",
   "metadata": {},
   "outputs": [
    {
     "name": "stdout",
     "output_type": "stream",
     "text": [
      "14.3%. Run time:  11.87s. Est. time left: 00:00:01:11\n",
      "28.6%. Run time:  17.27s. Est. time left: 00:00:00:43\n",
      "42.9%. Run time:  21.02s. Est. time left: 00:00:00:28\n",
      "57.1%. Run time:  26.12s. Est. time left: 00:00:00:19\n",
      "71.4%. Run time:  30.84s. Est. time left: 00:00:00:12\n",
      "85.7%. Run time:  35.79s. Est. time left: 00:00:00:05\n",
      "100.0%. Run time:  39.50s. Est. time left: 00:00:00:00\n",
      "Total run time:  39.54s\n"
     ]
    }
   ],
   "source": [
    "open_result = parallel_map(open_simulation, range(len(duration)), progress_bar=True)"
   ]
  },
  {
   "cell_type": "markdown",
   "id": "6c4b2f9d",
   "metadata": {},
   "source": [
    "# This is original version of Fig 4 (a)"
   ]
  },
  {
   "cell_type": "code",
   "execution_count": 11,
   "id": "6ac2c870",
   "metadata": {},
   "outputs": [
    {
     "data": {
      "image/png": "[encoded data removed]",
      "text/plain": [
       "<Figure size 432x288 with 1 Axes>"
      ]
     },
     "metadata": {
      "needs_background": "light"
     },
     "output_type": "display_data"
    }
   ],
   "source": [
    "plt.plot(np.array(duration),close_result)\n",
    "plt.plot(np.array(duration),open_result)\n",
    "plt.yscale('log')"
   ]
  },
  {
   "cell_type": "markdown",
   "id": "0d01a319",
   "metadata": {},
   "source": [
    "# This is original version of Fig 4 (b).\n",
    "Note: index=0,1,..,6 corresponds to dutration 20,30,...,80"
   ]
  },
  {
   "cell_type": "code",
   "execution_count": 23,
   "id": "06f02fc2",
   "metadata": {},
   "outputs": [
    {
     "data": {
      "text/plain": [
       "[<matplotlib.lines.Line2D at 0x7fb3a9ce6e80>]"
      ]
     },
     "execution_count": 23,
     "metadata": {},
     "output_type": "execute_result"
    },
    {
     "data": {
      "image/png": "[encoded data removed]",
      "text/plain": [
       "<Figure size 432x288 with 1 Axes>"
      ]
     },
     "metadata": {
      "needs_background": "light"
     },
     "output_type": "display_data"
    }
   ],
   "source": [
    "index = 1\n",
    "plt.plot(tlist[index],pulse_set[index][0])\n",
    "plt.plot(tlist[index],pulse_set[index][1])"
   ]
  },
  {
   "cell_type": "code",
   "execution_count": 30,
   "id": "19fb85d9",
   "metadata": {},
   "outputs": [
    {
     "data": {
      "text/plain": [
       "(-500.0, 500.0)"
      ]
     },
     "execution_count": 30,
     "metadata": {},
     "output_type": "execute_result"
    },
    {
     "data": {
      "image/png": "[encoded data removed]",
      "text/plain": [
       "<Figure size 432x288 with 1 Axes>"
      ]
     },
     "metadata": {
      "needs_background": "light"
     },
     "output_type": "display_data"
    }
   ],
   "source": [
    "from numpy.fft import fft,fftfreq,ifft\n",
    "def shift(freq,fourier):\n",
    "    for i in range(len(freq)):\n",
    "        if freq[i] < 0:\n",
    "            freq = np.concatenate((freq[i:], freq[:i]))\n",
    "            fourier = np.concatenate((fourier[i:], fourier[:i]))\n",
    "            break\n",
    "    return freq, fourier\n",
    "overall_rt=pulse_set[index][0] - 1j* pulse_set[index][1]\n",
    "fourier = np.abs(fft(overall_rt))\n",
    "freq = fftfreq(len(tlist[index]), tlist[index][1]-tlist[index][0])\n",
    "freq,fourier = shift(freq,fourier)\n",
    "fig,ax=plt.subplots()\n",
    "ax.stem(freq*1000, fourier/len(tlist_fine), 'k', markerfmt=' ', label='',basefmt=\" \")\n",
    "# ax.set_yscale('log')\n",
    "ymax = max(fourier/len(tlist_fine))\n",
    "ax.set(ylim=(0,ymax ), )\n",
    "plt.xlabel('freq (MHz)')\n",
    "plt.ylabel('amplitude (a.u.)')\n",
    "plt.xlim([-500, 500])\n",
    "# plt.savefig('qoc_pulse_ft.pdf', bbox_inches='tight')"
   ]
  },
  {
   "cell_type": "code",
   "execution_count": 28,
   "id": "e871649a",
   "metadata": {},
   "outputs": [],
   "source": [
    "import qutip as qt\n",
    "import matplotlib.pyplot as plt\n",
    "import numpy as np\n",
    "from qutip import *\n",
    "import scipy.special as sp\n",
    "import scipy\n",
    "from scipy.interpolate import interp1d\n",
    "\n",
    "N_q = 5\n",
    "\n",
    "a_q = destroy(N_q)\n",
    "n_q = a_q.dag() * a_q\n",
    "x_q = a_q + a_q.dag()\n",
    "\n",
    "def dev_gaussian_env(t, sigma, chop, rot_angle, ti):  \n",
    "    tg = chop * sigma\n",
    "    tf = ti + tg\n",
    "    amp = rot_angle / (np.sqrt(2*np.pi)*sigma*sp.erf(tg/(2*np.sqrt(2)*sigma)) - np.exp(-(tg/2)**2/(2*sigma**2))*tg)\n",
    "    return (- amp * (t-ti-tg/2)/(sigma**2) * np.exp(-(t-ti-tg/2)**2/(2*sigma**2)) ) * np.heaviside(t - ti, 0) * np.heaviside(tf - t, 0)\n",
    "def gaussian_env(t, sigma, chop, rot_angle, ti):  \n",
    "    tg = chop * sigma\n",
    "    tf = ti + tg\n",
    "    amp = rot_angle / (np.sqrt(2*np.pi)*sigma*sp.erf(tg/(2*np.sqrt(2)*sigma)) - np.exp(-(tg/2)**2/(2*sigma**2))*tg)\n",
    "    offset = amp * np.exp(-(tg/2)**2/(2*sigma**2))\n",
    "    return (amp * np.exp(-(t-ti-tg/2)**2/(2*sigma**2)) - offset) * np.heaviside(t - ti, 0) * np.heaviside(tf - t, 0)\n",
    "\n",
    "def func(i):\n",
    "\n",
    "    cross = cross_list[i] * 1e-3 * 2*np.pi\n",
    "    \n",
    "    anhar = 200 * 1e-3 * 2*np.pi   # need to modify in python file \n",
    "\n",
    "    kerr_q = anhar / 2\n",
    "    \n",
    "    k_q = -200e-3 * 2*np.pi  \n",
    "\n",
    "    H0 = ( cross * n_q \n",
    "          + 1/2*k_q * a_q.dag()**2 * a_q**2 \n",
    "         )\n",
    "\n",
    "    Hcx=a_q+a_q.dag()\n",
    "    Hcy=-a_q*1j+1j*a_q.dag()\n",
    "\n",
    "    target_states=np.zeros((N_q, N_q), dtype=np.complex128)\n",
    "    target_states[0,1]=1\n",
    "    target_states[1,0]=1\n",
    "    # target_states[0,0] = 1/np.sqrt(2)\n",
    "    # target_states[0,1] = -1j*1/np.sqrt(2)\n",
    "    # target_states[1,0] = -1j*1/np.sqrt(2)\n",
    "    # target_states[1,1] = 1/np.sqrt(2)\n",
    "    target_sup = np.kron(target_states,target_states)\n",
    "    U_ideal = Qobj(target_states)\n",
    "\n",
    "    options = qt.Options(rtol=1e-10, atol=1e-10)\n",
    "\n",
    "    \n",
    "    # qoc part \n",
    "    qt_cx = pulse_set[index][0]\n",
    "    qt_cy = pulse_set[index][1]\n",
    "    qt_H=[H0,[Hcx,qt_cx],[Hcy,qt_cy]]\n",
    "    T_1 = 50000\n",
    "    T_phi = 50000\n",
    "    output = qt.propagator(qt_H, tlist[index], c_op_list=[np.sqrt(1/T_1)*a_q,2*np.sqrt(1/T_phi)*n_q], args={}, options=options)\n",
    "    robust = 1-1/4*np.abs(np.trace(np.transpose(output[-1].data.toarray()@target_sup)))\n",
    "    output = qt.propagator(qt_H, tlist[index], c_op_list=[0*a_q], args={}, options=options)\n",
    "    robust1 = 1-1/4*np.abs(np.trace(np.transpose(output[-1].data.toarray()@target_sup)))\n",
    "    \n",
    "\n",
    "    \n",
    "    # drag part \n",
    "    drag_scale=1/2\n",
    "    chop=4\n",
    "    sigma=20/chop\n",
    "    rot_angle=np.pi\n",
    "    # rot_angle=np.pi/2\n",
    "    qt_cx = gaussian_env(tlist[0], sigma, chop, rot_angle, 0)\n",
    "    qt_cy = -dev_gaussian_env(tlist[0], sigma, chop, rot_angle, 0)/ (2*k_q) \n",
    "    qt_H=[H0,[Hcx,qt_cx/2],[Hcy,qt_cy/2]]\n",
    "    \n",
    "    target_sup = np.kron(target_states,target_states)\n",
    "    # target_states[0,0] = 1/np.sqrt(2)\n",
    "    # target_states[0,1] = -1j*1/np.sqrt(2)\n",
    "    # target_states[1,0] = -1j*1/np.sqrt(2)\n",
    "    # target_states[1,1] = 1/np.sqrt(2)\n",
    "    \n",
    "    T_phi = 50000\n",
    "    output = qt.propagator(qt_H, tlist[0], c_op_list=[np.sqrt(1/T_1)*a_q,np.sqrt(2/T_phi)*n_q], args={}, options=options)\n",
    "    drag = 1-1/4*np.abs(np.trace(np.transpose(output[-1].data.toarray()@target_sup)))\n",
    "    output = qt.propagator(qt_H, tlist[0], c_op_list=[0*a_q], args={}, options=options)\n",
    "    drag1 = 1-1/4*np.abs(np.trace(np.transpose(output[-1].data.toarray()@target_sup)))\n",
    "    \n",
    "\n",
    "    \n",
    "    return robust, drag, robust1, drag1"
   ]
  },
  {
   "cell_type": "code",
   "execution_count": 29,
   "id": "4df1d93a",
   "metadata": {},
   "outputs": [
    {
     "name": "stdout",
     "output_type": "stream",
     "text": [
      "10.4%. Run time:  13.10s. Est. time left: 00:00:01:52\n",
      "20.4%. Run time:  13.17s. Est. time left: 00:00:00:51\n",
      "30.3%. Run time:  13.24s. Est. time left: 00:00:00:30\n",
      "40.3%. Run time:  25.38s. Est. time left: 00:00:00:37\n",
      "50.2%. Run time:  25.61s. Est. time left: 00:00:00:25\n",
      "60.2%. Run time:  25.74s. Est. time left: 00:00:00:17\n",
      "70.1%. Run time:  37.61s. Est. time left: 00:00:00:16\n",
      "80.1%. Run time:  37.89s. Est. time left: 00:00:00:09\n",
      "90.0%. Run time:  38.03s. Est. time left: 00:00:00:04\n",
      "100.0%. Run time:  44.01s. Est. time left: 00:00:00:00\n",
      "Total run time:  44.21s\n"
     ]
    }
   ],
   "source": [
    "cross_list = np.linspace(-20,20,201)\n",
    "RESULT = parallel_map(func, range(len(cross_list)), progress_bar=True)"
   ]
  },
  {
   "cell_type": "code",
   "execution_count": 27,
   "id": "6f6d294d",
   "metadata": {},
   "outputs": [
    {
     "data": {
      "image/png": "[encoded data removed]",
      "text/plain": [
       "<Figure size 432x288 with 1 Axes>"
      ]
     },
     "metadata": {
      "needs_background": "light"
     },
     "output_type": "display_data"
    }
   ],
   "source": [
    "plt.plot(cross_list, np.array(RESULT)[:,0], '-', color = '#377eb8')\n",
    "plt.plot(cross_list, np.array(RESULT)[:,1], '-', color = '#e41a1c')\n",
    "plt.plot(cross_list, np.array(RESULT)[:,2], '--', color = '#377eb8')\n",
    "plt.plot(cross_list, np.array(RESULT)[:,3], '--', color = '#e41a1c')\n",
    "plt.yscale('log')\n",
    "plt.legend(['QOC','DRAG'],frameon=False)\n",
    "plt.xlim([-20,20])\n",
    "plt.xlabel(r'$\\Delta/2\\pi$ (MHz)')\n",
    "plt.ylabel('Infidelity')\n",
    "plt.show()\n",
    "# plt.savefig('qoc_pulse.pdf', bbox_inches='tight')"
   ]
  },
  {
   "cell_type": "code",
   "execution_count": null,
   "id": "51474542",
   "metadata": {},
   "outputs": [],
   "source": []
  },
  {
   "cell_type": "code",
   "execution_count": null,
   "id": "6025452b",
   "metadata": {},
   "outputs": [],
   "source": []
  }
 ],
 "metadata": {
  "kernelspec": {
   "display_name": "Python 3 (ipykernel)",
   "language": "python",
   "name": "python3"
  },
  "language_info": {
   "codemirror_mode": {
    "name": "ipython",
    "version": 3
   },
   "file_extension": ".py",
   "mimetype": "text/x-python",
   "name": "python",
   "nbconvert_exporter": "python",
   "pygments_lexer": "ipython3",
   "version": "3.9.7"
  }
 },
 "nbformat": 4,
 "nbformat_minor": 5
}
